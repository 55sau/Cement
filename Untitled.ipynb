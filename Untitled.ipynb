{
 "cells": [
  {
   "cell_type": "code",
   "execution_count": 2,
   "id": "861e7755",
   "metadata": {},
   "outputs": [],
   "source": [
    "import pandas as pd\n",
    "import streamlit as st\n",
    "import numpy as np\n",
    "import matplotlib.pyplot as plt\n",
    "from statsmodels.tsa.seasonal import seasonal_decompose\n",
    "from statsmodels.tsa.holtwinters import SimpleExpSmoothing # SES\n",
    "from statsmodels.tsa.holtwinters import Holt # Holts Exponential Smoothing\n",
    "from statsmodels.tsa.holtwinters import ExponentialSmoothing"
   ]
  },
  {
   "cell_type": "code",
   "execution_count": 3,
   "id": "358ba02d",
   "metadata": {},
   "outputs": [
    {
     "name": "stderr",
     "output_type": "stream",
     "text": [
      "2023-02-10 15:15:30.908 \n",
      "  \u001b[33m\u001b[1mWarning:\u001b[0m to view this Streamlit app on a browser, run it with the following\n",
      "  command:\n",
      "\n",
      "    streamlit run C:\\Users\\sauja\\anaconda3\\lib\\site-packages\\ipykernel_launcher.py [ARGUMENTS]\n"
     ]
    }
   ],
   "source": [
    "st.title('Forecast of Cement Sales')\n",
    "uploaded_file = st.file_uploader(\" \", type=['xlsx'])\n",
    "\n"
   ]
  },
  {
   "cell_type": "code",
   "execution_count": 14,
   "id": "a88405f0",
   "metadata": {},
   "outputs": [],
   "source": [
    "if uploaded_file is not None:     \n",
    "    data = pd.read_excel(uploaded_file)\n",
    "    data['Date'] =data['Date'].apply(lambda x: x.strftime('%B-%Y'))\n",
    "    hwe_model_mul_add_add = ExponentialSmoothing(data[\"Cement_Sales\"][:71], seasonal = \"mul\", trend = \"add\", seasonal_periods = 12).fit()\n",
    "    \n",
    "    newdata_pred = hwe_model_mul_add_add.predict(start = new_data.index[0], end = new_data.index[-1])\n",
    "    \n",
    "    st.subheader(\"For exponential model\")\n",
    "   \n",
    "    st.write(\"Sales Forecast: \", newdata_pred)\n",
    "   \n",
    "    \n",
    "    st.subheader(\"Thanks for visit.\")\n",
    "    "
   ]
  },
  {
   "cell_type": "code",
   "execution_count": null,
   "id": "cb5bd79d",
   "metadata": {},
   "outputs": [],
   "source": []
  }
 ],
 "metadata": {
  "kernelspec": {
   "display_name": "Python 3 (ipykernel)",
   "language": "python",
   "name": "python3"
  },
  "language_info": {
   "codemirror_mode": {
    "name": "ipython",
    "version": 3
   },
   "file_extension": ".py",
   "mimetype": "text/x-python",
   "name": "python",
   "nbconvert_exporter": "python",
   "pygments_lexer": "ipython3",
   "version": "3.9.13"
  }
 },
 "nbformat": 4,
 "nbformat_minor": 5
}
